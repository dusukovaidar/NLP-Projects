{
 "cells": [
  {
   "cell_type": "markdown",
   "metadata": {},
   "source": [
    "# Assignment 1: Logistic Regression"
   ]
  },
  {
   "cell_type": "markdown",
   "metadata": {},
   "source": [
    "## Table of Contents\n",
    "\n",
    "- [Import Functions and Data](#0)\n",
    "- [1 - Logistic Regression](#1)\n",
    "    - [1.1 - Sigmoid](#1-1)\n",
    "        - [Exercise 1 - sigmoid (UNQ_C1)](#ex-1)\n",
    "    - [1.2 - Cost function and Gradient](#1-2)\n",
    "        - [Exercise 2 - gradientDescent (UNQ_C2)](#ex-2)\n",
    "- [2 - Extracting the Features](#2)\n",
    "    - [Exercise 3 - extract_features (UNQ_C3)](#ex-3)\n",
    "- [3 - Training Your Model](#3)\n",
    "- [4 - Test your Logistic Regression](#4)\n",
    "    - [Exercise 4 - predict_tweet (UNQ_C4)](#ex-4)\n",
    "    - [4.1 - Check the Performance using the Test Set](#4-1)\n",
    "        - [Exercise 5 - test_logistic_regression (UNQ_C5)](#ex-5)\n",
    "- [5 - Error Analysis](#5)\n",
    "- [6 - Predict with your own Tweet](#6)"
   ]
  },
  {
   "cell_type": "markdown",
   "metadata": {},
   "source": [
    "<a name='0'></a>\n",
    "## Import Functions and Data"
   ]
  },
  {
   "cell_type": "code",
   "execution_count": 1,
   "metadata": {},
   "outputs": [
    {
     "name": "stderr",
     "output_type": "stream",
     "text": [
      "[nltk_data] Downloading package twitter_samples to\n",
      "[nltk_data]     /home/jovyan/nltk_data...\n",
      "[nltk_data]   Unzipping corpora/twitter_samples.zip.\n",
      "[nltk_data] Downloading package stopwords to /home/jovyan/nltk_data...\n",
      "[nltk_data]   Unzipping corpora/stopwords.zip.\n"
     ]
    },
    {
     "data": {
      "text/plain": [
       "True"
      ]
     },
     "execution_count": 1,
     "metadata": {},
     "output_type": "execute_result"
    }
   ],
   "source": [
    "# run this cell to import nltk\n",
    "import nltk\n",
    "from os import getcwd\n",
    "import w1_unittest\n",
    "\n",
    "nltk.download('twitter_samples')\n",
    "nltk.download('stopwords')"
   ]
  },
  {
   "cell_type": "code",
   "execution_count": 1,
   "metadata": {},
   "outputs": [],
   "source": [
    "def process_tweet(tweet):\n",
    "    \"\"\"Process tweet function.\n",
    "    Input:\n",
    "        tweet: a string containing a tweet\n",
    "    Output:\n",
    "        tweets_clean: a list of words containing the processed tweet\n",
    "\n",
    "    \"\"\"\n",
    "    stemmer = PorterStemmer()\n",
    "    stopwords_english = stopwords.words('english')\n",
    "    # remove stock market tickers like $GE\n",
    "    tweet = re.sub(r'\\$\\w*', '', tweet)\n",
    "    # remove old style retweet text \"RT\"\n",
    "    tweet = re.sub(r'^RT[\\s]+', '', tweet)\n",
    "    # remove hyperlinks    \n",
    "    tweet = re.sub(r'https?://[^\\s\\n\\r]+', '', tweet)\n",
    "    # remove hashtags\n",
    "    # only removing the hash # sign from the word\n",
    "    tweet = re.sub(r'#', '', tweet)\n",
    "    # tokenize tweets\n",
    "    tokenizer = TweetTokenizer(preserve_case=False, strip_handles=True,\n",
    "                               reduce_len=True)\n",
    "    tweet_tokens = tokenizer.tokenize(tweet)\n",
    "\n",
    "    tweets_clean = []\n",
    "    for word in tweet_tokens:\n",
    "        if (word not in stopwords_english and  # remove stopwords\n",
    "                word not in string.punctuation):  # remove punctuation\n",
    "            # tweets_clean.append(word)\n",
    "            stem_word = stemmer.stem(word)  # stemming word\n",
    "            tweets_clean.append(stem_word)\n",
    "\n",
    "    return tweets_clean\n",
    "\n",
    "def build_freqs(tweets, ys):\n",
    "    \"\"\"Build frequencies.\n",
    "    Input:\n",
    "        tweets: a list of tweets\n",
    "        ys: an m x 1 array with the sentiment label of each tweet\n",
    "            (either 0 or 1)\n",
    "    Output:\n",
    "        freqs: a dictionary mapping each (word, sentiment) pair to its\n",
    "        frequency\n",
    "    \"\"\"\n",
    "    # Convert np array to list since zip needs an iterable.\n",
    "    # The squeeze is necessary or the list ends up with one element.\n",
    "    # Also note that this is just a NOP if ys is already a list.\n",
    "    yslist = np.squeeze(ys).tolist()\n",
    "\n",
    "    # Start with an empty dictionary and populate it by looping over all tweets\n",
    "    # and over all processed words in each tweet.\n",
    "    freqs = {}\n",
    "    for y, tweet in zip(yslist, tweets):\n",
    "        for word in process_tweet(tweet):\n",
    "            pair = (word, y)\n",
    "            if pair in freqs:\n",
    "                freqs[pair] += 1\n",
    "            else:\n",
    "                freqs[pair] = 1\n",
    "\n",
    "    return freqs"
   ]
  },
  {
   "cell_type": "code",
   "execution_count": 2,
   "metadata": {},
   "outputs": [],
   "source": [
    "filePath = f\"{getcwd()}/../tmp2/\"\n",
    "nltk.data.path.append(filePath)"
   ]
  },
  {
   "cell_type": "code",
   "execution_count": 3,
   "metadata": {},
   "outputs": [],
   "source": [
    "import numpy as np\n",
    "import pandas as pd\n",
    "from nltk.corpus import twitter_samples \n",
    "\n",
    "from utils import process_tweet, build_freqs"
   ]
  },
  {
   "cell_type": "markdown",
   "metadata": {},
   "source": [
    "### Prepare the Data\n",
    "* The `twitter_samples` contains subsets of five thousand positive_tweets, five thousand negative_tweets, and the full set of 10,000 tweets.  \n",
    "    * If you used all three datasets, we would introduce duplicates of the positive tweets and negative tweets.  \n",
    "    * You will select just the five thousand positive tweets and five thousand negative tweets."
   ]
  },
  {
   "cell_type": "code",
   "execution_count": 4,
   "metadata": {},
   "outputs": [],
   "source": [
    "# select the set of positive and negative tweets\n",
    "all_positive_tweets = twitter_samples.strings('positive_tweets.json')\n",
    "all_negative_tweets = twitter_samples.strings('negative_tweets.json')"
   ]
  },
  {
   "cell_type": "markdown",
   "metadata": {},
   "source": [
    "* Train test split: 20% will be in the test set, and 80% in the training set.\n"
   ]
  },
  {
   "cell_type": "code",
   "execution_count": 5,
   "metadata": {},
   "outputs": [],
   "source": [
    "# split the data into two pieces, one for training and one for testing (validation set) \n",
    "test_pos = all_positive_tweets[4000:]\n",
    "train_pos = all_positive_tweets[:4000]\n",
    "test_neg = all_negative_tweets[4000:]\n",
    "train_neg = all_negative_tweets[:4000]\n",
    "\n",
    "train_x = train_pos + train_neg \n",
    "test_x = test_pos + test_neg"
   ]
  },
  {
   "cell_type": "markdown",
   "metadata": {},
   "source": [
    "* Create the numpy array of positive labels and negative labels."
   ]
  },
  {
   "cell_type": "code",
   "execution_count": 6,
   "metadata": {},
   "outputs": [],
   "source": [
    "# combine positive and negative labels\n",
    "train_y = np.append(np.ones((len(train_pos), 1)), np.zeros((len(train_neg), 1)), axis=0)\n",
    "test_y = np.append(np.ones((len(test_pos), 1)), np.zeros((len(test_neg), 1)), axis=0)"
   ]
  },
  {
   "cell_type": "code",
   "execution_count": 7,
   "metadata": {},
   "outputs": [
    {
     "name": "stdout",
     "output_type": "stream",
     "text": [
      "train_y.shape = (8000, 1)\n",
      "test_y.shape = (2000, 1)\n"
     ]
    }
   ],
   "source": [
    "# Print the shape train and test sets\n",
    "print(\"train_y.shape = \" + str(train_y.shape))\n",
    "print(\"test_y.shape = \" + str(test_y.shape))"
   ]
  },
  {
   "cell_type": "code",
   "execution_count": 8,
   "metadata": {},
   "outputs": [
    {
     "name": "stdout",
     "output_type": "stream",
     "text": [
      "type(freqs) = <class 'dict'>\n",
      "len(freqs) = 11436\n"
     ]
    }
   ],
   "source": [
    "# create frequency dictionary\n",
    "freqs = build_freqs(train_x, train_y)\n",
    "\n",
    "# check the output\n",
    "print(\"type(freqs) = \" + str(type(freqs)))\n",
    "print(\"len(freqs) = \" + str(len(freqs.keys())))"
   ]
  },
  {
   "cell_type": "markdown",
   "metadata": {},
   "source": [
    "### Process Tweet\n",
    "The given function 'process_tweet' tokenizes the tweet into individual words, removes stop words and applies stemming."
   ]
  },
  {
   "cell_type": "code",
   "execution_count": 9,
   "metadata": {},
   "outputs": [
    {
     "name": "stdout",
     "output_type": "stream",
     "text": [
      "This is an example of a positive tweet: \n",
      " #FollowFriday @France_Inte @PKuchly57 @Milipol_Paris for being top engaged members in my community this week :)\n",
      "\n",
      "This is an example of the processed version of the tweet: \n",
      " ['followfriday', 'top', 'engag', 'member', 'commun', 'week', ':)']\n"
     ]
    }
   ],
   "source": [
    "# test the function below\n",
    "print('This is an example of a positive tweet: \\n', train_x[0])\n",
    "print('\\nThis is an example of the processed version of the tweet: \\n', process_tweet(train_x[0]))"
   ]
  },
  {
   "attachments": {
    "sigmoid_plot.png": {
     "image/png": "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"
    }
   },
   "cell_type": "markdown",
   "metadata": {},
   "source": [
    "<a name='1'></a>\n",
    "## 1 - Logistic Regression \n",
    "\n",
    "<a name='1-1'></a>\n",
    "### 1.1 - Sigmoid\n",
    "You will learn to use logistic regression for text classification. \n",
    "* The sigmoid function is defined as: \n",
    "\n",
    "$$ h(z) = \\frac{1}{1+\\exp^{-z}} \\tag{1}$$\n",
    "\n",
    "It maps the input 'z' to a value that ranges between 0 and 1, and so it can be treated as a probability. \n",
    "\n",
    "![sigmoid_plot.png](attachment:sigmoid_plot.png)"
   ]
  },
  {
   "cell_type": "code",
   "execution_count": 10,
   "metadata": {},
   "outputs": [],
   "source": [
    "# Sigmoid\n",
    "def sigmoid(z): \n",
    "    '''\n",
    "    Input:\n",
    "        z: is the input (can be a scalar or an array)\n",
    "    Output:\n",
    "        h: the sigmoid of z\n",
    "    '''\n",
    "    # calculate the sigmoid of z\n",
    "    h = 1 / (1 + np.exp(-z))\n",
    "    \n",
    "    return h"
   ]
  },
  {
   "cell_type": "code",
   "execution_count": 11,
   "metadata": {},
   "outputs": [
    {
     "name": "stdout",
     "output_type": "stream",
     "text": [
      "SUCCESS!\n",
      "CORRECT!\n"
     ]
    }
   ],
   "source": [
    "# Testing the function \n",
    "if (sigmoid(0) == 0.5):\n",
    "    print('SUCCESS!')\n",
    "else:\n",
    "    print('Oops!')\n",
    "\n",
    "if (sigmoid(4.92) == 0.9927537604041685):\n",
    "    print('CORRECT!')\n",
    "else:\n",
    "    print('Oops again!')"
   ]
  },
  {
   "cell_type": "code",
   "execution_count": 12,
   "metadata": {},
   "outputs": [
    {
     "name": "stdout",
     "output_type": "stream",
     "text": [
      "\u001b[92m All tests passed\n"
     ]
    }
   ],
   "source": [
    "# Test your function\n",
    "w1_unittest.test_sigmoid(sigmoid)"
   ]
  },
  {
   "cell_type": "markdown",
   "metadata": {},
   "source": [
    "#### Logistic Regression: Regression and a Sigmoid\n",
    "\n",
    "Logistic regression takes a regular linear regression, and applies a sigmoid to the output of the linear regression.\n",
    "\n",
    "Regression:\n",
    "$$z = \\theta_0 x_0 + \\theta_1 x_1 + \\theta_2 x_2 + ... \\theta_N x_N$$\n",
    "Note that the $\\theta$ values are \"weights\". If you took the deep learning specialization, we referred to the weights with the 'w' vector.  In this course, we're using a different variable $\\theta$ to refer to the weights.\n",
    "\n",
    "Logistic regression\n",
    "$$ h(z) = \\frac{1}{1+\\exp^{-z}}$$\n",
    "$$z = \\theta_0 x_0 + \\theta_1 x_1 + \\theta_2 x_2 + ... \\theta_N x_N$$\n",
    "We will refer to 'z' as the 'logits'."
   ]
  },
  {
   "cell_type": "markdown",
   "metadata": {},
   "source": [
    "<a name='1-2'></a>\n",
    "### 1.2 - Cost function and Gradient\n",
    "\n",
    "The cost function used for logistic regression is the average of the log loss across all training examples:\n",
    "\n",
    "$$J(\\theta) = -\\frac{1}{m} \\sum_{i=1}^m y^{(i)}\\log (h(z(\\theta)^{(i)})) + (1-y^{(i)})\\log (1-h(z(\\theta)^{(i)}))\\tag{5} $$\n",
    "* $m$ is the number of training examples\n",
    "* $y^{(i)}$ is the actual label of training example 'i'.\n",
    "* $h(z^{(i)})$ is the model's prediction for the training example 'i'.\n",
    "\n",
    "The loss function for a single training example is\n",
    "$$ Loss = -1 \\times \\left( y^{(i)}\\log (h(z(\\theta)^{(i)})) + (1-y^{(i)})\\log (1-h(z(\\theta)^{(i)})) \\right)$$\n",
    "\n",
    "* All the $h$ values are between 0 and 1, so the logs will be negative. That is the reason for the factor of -1 applied to the sum of the two loss terms.\n",
    "* Note that when the model predicts 1 ($h(z(\\theta)) = 1$) and the label 'y' is also 1, the loss for that training example is 0. \n",
    "* Similarly, when the model predicts 0 ($h(z(\\theta)) = 0$) and the actual label is also 0, the loss for that training example is 0. \n",
    "* However, when the model prediction is close to 1 ($h(z(\\theta)) = 0.9999$) and the label is 0, the second term of the log loss becomes a large negative number, which is then multiplied by the overall factor of -1 to convert it to a positive loss value. $-1 \\times (1 - 0) \\times log(1 - 0.9999) \\approx 9.2$ The closer the model prediction gets to 1, the larger the loss."
   ]
  },
  {
   "cell_type": "code",
   "execution_count": 13,
   "metadata": {},
   "outputs": [
    {
     "data": {
      "text/plain": [
       "9.210340371976294"
      ]
     },
     "execution_count": 13,
     "metadata": {},
     "output_type": "execute_result"
    }
   ],
   "source": [
    "# verify that when the model predicts close to 1, but the actual label is 0, the loss is a large positive value\n",
    "-1 * (1 - 0) * np.log(1 - 0.9999) # loss is about 9.2"
   ]
  },
  {
   "cell_type": "markdown",
   "metadata": {},
   "source": [
    "* Likewise, if the model predicts close to 0 ($h(z) = 0.0001$) but the actual label is 1, the first term in the loss function becomes a large number: $-1 \\times log(0.0001) \\approx 9.2$.  The closer the prediction is to zero, the larger the loss."
   ]
  },
  {
   "cell_type": "code",
   "execution_count": 14,
   "metadata": {},
   "outputs": [
    {
     "data": {
      "text/plain": [
       "9.210340371976182"
      ]
     },
     "execution_count": 14,
     "metadata": {},
     "output_type": "execute_result"
    }
   ],
   "source": [
    "# verify that when the model predicts close to 0 but the actual label is 1, the loss is a large positive value\n",
    "-1 * np.log(0.0001) # loss is about 9.2"
   ]
  },
  {
   "cell_type": "markdown",
   "metadata": {},
   "source": [
    "#### Update the weights\n",
    "\n",
    "To update your weight vector $\\theta$, you will apply gradient descent to iteratively improve your model's predictions.  \n",
    "The gradient of the cost function $J$ with respect to one of the weights $\\theta_j$ is:\n",
    "\n",
    "$$\\nabla_{\\theta_j}J(\\theta) = \\frac{1}{m} \\sum_{i=1}^m(h^{(i)}-y^{(i)})x^{(i)}_j \\tag{5}$$\n",
    "* 'i' is the index across all 'm' training examples.\n",
    "* 'j' is the index of the weight $\\theta_j$, so $x^{(i)}_j$ is the feature associated with weight $\\theta_j$\n",
    "\n",
    "* To update the weight $\\theta_j$, we adjust it by subtracting a fraction of the gradient determined by $\\alpha$:\n",
    "$$\\theta_j = \\theta_j - \\alpha \\times \\nabla_{\\theta_j}J(\\theta) $$\n",
    "* The learning rate $\\alpha$ is a value that we choose to control how big a single update will be.\n"
   ]
  },
  {
   "cell_type": "markdown",
   "metadata": {},
   "source": [
    "<a name='ex-2'></a>\n",
    "### GradientDescent\n",
    "Implement gradient descent function.\n",
    "* The number of iterations 'num_iters\" is the number of times that you'll use the entire training set.\n",
    "* For each iteration, you'll calculate the cost function using all training examples (there are 'm' training examples), and for all features.\n",
    "* Instead of updating a single weight $\\theta_i$ at a time, we can update all the weights in the column vector:  \n",
    "$$\\mathbf{\\theta} = \\begin{pmatrix}\n",
    "\\theta_0\n",
    "\\\\\n",
    "\\theta_1\n",
    "\\\\ \n",
    "\\theta_2 \n",
    "\\\\ \n",
    "\\vdots\n",
    "\\\\ \n",
    "\\theta_n\n",
    "\\end{pmatrix}$$\n",
    "* $\\mathbf{\\theta}$ has dimensions (n+1, 1), where 'n' is the number of features, and there is one more element for the bias term $\\theta_0$ (note that the corresponding feature value $\\mathbf{x_0}$ is 1).\n",
    "* The 'logits', 'z', are calculated by multiplying the feature matrix 'x' with the weight vector 'theta'.  $z = \\mathbf{x}\\mathbf{\\theta}$\n",
    "    * $\\mathbf{x}$ has dimensions (m, n+1) \n",
    "    * $\\mathbf{\\theta}$: has dimensions (n+1, 1)\n",
    "    * $\\mathbf{z}$: has dimensions (m, 1)\n",
    "* The prediction 'h', is calculated by applying the sigmoid to each element in 'z': $h(z) = sigmoid(z)$, and has dimensions (m,1).\n",
    "* The cost function $J$ is calculated by taking the dot product of the vectors 'y' and 'log(h)'.  Since both 'y' and 'h' are column vectors (m,1), transpose the vector to the left, so that matrix multiplication of a row vector with column vector performs the dot product.\n",
    "$$J = \\frac{-1}{m} \\times \\left(\\mathbf{y}^T \\cdot log(\\mathbf{h}) + \\mathbf{(1-y)}^T \\cdot log(\\mathbf{1-h}) \\right)$$\n",
    "* The update of theta is also vectorized.  Because the dimensions of $\\mathbf{x}$ are (m, n+1), and both $\\mathbf{h}$ and $\\mathbf{y}$ are (m, 1), we need to transpose the $\\mathbf{x}$ and place it on the left in order to perform matrix multiplication, which then yields the (n+1, 1) answer we need:\n",
    "$$\\mathbf{\\theta} = \\mathbf{\\theta} - \\frac{\\alpha}{m} \\times \\left( \\mathbf{x}^T \\cdot \\left( \\mathbf{h-y} \\right) \\right)$$"
   ]
  },
  {
   "cell_type": "code",
   "execution_count": 15,
   "metadata": {},
   "outputs": [],
   "source": [
    "# gradientDescent\n",
    "def gradientDescent(x, y, theta, alpha, num_iters):\n",
    "    '''\n",
    "    Input:\n",
    "        x: matrix of features which is (m,n+1)\n",
    "        y: corresponding labels of the input matrix x, dimensions (m,1)\n",
    "        theta: weight vector of dimension (n+1,1)\n",
    "        alpha: learning rate\n",
    "        num_iters: number of iterations you want to train your model for\n",
    "    Output:\n",
    "        J: the final cost\n",
    "        theta: your final weight vector\n",
    "    '''\n",
    "    \n",
    "    # get 'm', the number of rows in matrix x\n",
    "    m = len(x)\n",
    "    \n",
    "    for i in range(0, num_iters):\n",
    "        \n",
    "        # get z, the dot product of x and theta\n",
    "        z = np.dot(x, theta)\n",
    "        \n",
    "        # get the sigmoid of z\n",
    "        h = sigmoid(z)\n",
    "        \n",
    "        # calculate the cost function\n",
    "        J = np.dot(-1 / m, np.transpose(y).dot(np.log(h)) + np.transpose(1 - y).dot(np.log(1 - h)))\n",
    "\n",
    "        # update the weights theta\n",
    "        theta = theta - (alpha / m) * np.transpose(x).dot(h - y)\n",
    "        \n",
    "    J = float(J)\n",
    "    return J, theta"
   ]
  },
  {
   "cell_type": "code",
   "execution_count": 16,
   "metadata": {},
   "outputs": [
    {
     "name": "stdout",
     "output_type": "stream",
     "text": [
      "The cost after training is 0.67094970.\n",
      "The resulting vector of weights is [4.1e-07, 0.00035658, 7.309e-05]\n"
     ]
    }
   ],
   "source": [
    "# Check the function\n",
    "# Construct a synthetic test case using numpy PRNG functions\n",
    "np.random.seed(1)\n",
    "# X input is 10 x 3 with ones for the bias terms\n",
    "tmp_X = np.append(np.ones((10, 1)), np.random.rand(10, 2) * 2000, axis=1)\n",
    "# Y Labels are 10 x 1\n",
    "tmp_Y = (np.random.rand(10, 1) > 0.35).astype(float)\n",
    "\n",
    "# Apply gradient descent\n",
    "tmp_J, tmp_theta = gradientDescent(tmp_X, tmp_Y, np.zeros((3, 1)), 1e-8, 700)\n",
    "print(f\"The cost after training is {tmp_J:.8f}.\")\n",
    "print(f\"The resulting vector of weights is {[round(t, 8) for t in np.squeeze(tmp_theta)]}\")"
   ]
  },
  {
   "cell_type": "markdown",
   "metadata": {},
   "source": [
    "#### Expected output\n",
    "```\n",
    "The cost after training is 0.67094970.\n",
    "The resulting vector of weights is [4.1e-07, 0.00035658, 7.309e-05]\n",
    "```"
   ]
  },
  {
   "cell_type": "code",
   "execution_count": 17,
   "metadata": {},
   "outputs": [
    {
     "name": "stdout",
     "output_type": "stream",
     "text": [
      "\u001b[92m All tests passed\n"
     ]
    }
   ],
   "source": [
    "# Test your function\n",
    "w1_unittest.test_gradientDescent(gradientDescent)"
   ]
  },
  {
   "cell_type": "markdown",
   "metadata": {},
   "source": [
    "<a name='2'></a>\n",
    "## 2 - Extracting the Features\n",
    "\n",
    "* Given a list of tweets, extract the features and store them in a matrix. You will extract two features.\n",
    "    * The first feature is the number of positive words in a tweet.\n",
    "    * The second feature is the number of negative words in a tweet. \n",
    "* Then train your logistic regression classifier on these features.\n",
    "* Test the classifier on a validation set. \n",
    "\n",
    "<a name='ex-3'></a>\n",
    "### Extract_features\n",
    "Implement the extract_features function. \n",
    "* This function takes in a single tweet.\n",
    "* Process the tweet using the imported `process_tweet` function and save the list of tweet words.\n",
    "* Loop through each word in the list of processed words\n",
    "    * For each word, check the 'freqs' dictionary for the count when that word has a positive '1' label. (Check for the key (word, 1.0)\n",
    "    * Do the same for the count for when the word is associated with the negative label '0'. (Check for the key (word, 0.0).)"
   ]
  },
  {
   "cell_type": "code",
   "execution_count": 18,
   "metadata": {},
   "outputs": [],
   "source": [
    "# extract_features\n",
    "def extract_features(tweet, freqs, process_tweet=process_tweet):\n",
    "    '''\n",
    "    Input: \n",
    "        tweet: a string containing one tweet\n",
    "        freqs: a dictionary corresponding to the frequencies of each tuple (word, label)\n",
    "    Output: \n",
    "        x: a feature vector of dimension (1,3)\n",
    "    '''\n",
    "    # process_tweet tokenizes, stems, and removes stopwords\n",
    "    word_l = process_tweet(tweet)\n",
    "    \n",
    "    # 3 elements for [bias, positive, negative] counts\n",
    "    x = np.zeros(3) \n",
    "    \n",
    "    # bias term is set to 1\n",
    "    x[0] = 1 \n",
    "    \n",
    "    # loop through each word in the list of words\n",
    "    for word in word_l:\n",
    "        \n",
    "        # increment the word count for the positive label 1\n",
    "        x[1] += freqs.get((word, 1.0),0)\n",
    "        \n",
    "        # increment the word count for the negative label 0\n",
    "\n",
    "        x[2] += freqs.get((word, 0.0),0)\n",
    "\n",
    "    x = x[None, :]  # adding batch dimension for further processing\n",
    "    assert(x.shape == (1, 3))\n",
    "    return x"
   ]
  },
  {
   "cell_type": "code",
   "execution_count": 19,
   "metadata": {},
   "outputs": [
    {
     "name": "stdout",
     "output_type": "stream",
     "text": [
      "[[1.000e+00 3.133e+03 6.100e+01]]\n"
     ]
    }
   ],
   "source": [
    "# Check your function\n",
    "# test 1\n",
    "# test on training data\n",
    "tmp1 = extract_features(train_x[0], freqs)\n",
    "print(tmp1)"
   ]
  },
  {
   "cell_type": "code",
   "execution_count": 20,
   "metadata": {},
   "outputs": [
    {
     "name": "stdout",
     "output_type": "stream",
     "text": [
      "[[1. 0. 0.]]\n"
     ]
    }
   ],
   "source": [
    "# test 2:\n",
    "# check for when the words are not in the freqs dictionary\n",
    "tmp2 = extract_features('blorb bleeeeb bloooob', freqs)\n",
    "print(tmp2)"
   ]
  },
  {
   "cell_type": "code",
   "execution_count": 21,
   "metadata": {},
   "outputs": [
    {
     "name": "stdout",
     "output_type": "stream",
     "text": [
      "\u001b[92m All tests passed\n"
     ]
    }
   ],
   "source": [
    "# Test your function\n",
    "w1_unittest.test_extract_features(extract_features, freqs)"
   ]
  },
  {
   "cell_type": "markdown",
   "metadata": {},
   "source": [
    "<a name='3'></a>\n",
    "## 3 - Training Your Model\n",
    "\n",
    "To train the model:\n",
    "* Stack the features for all training examples into a matrix X. \n",
    "* Call `gradientDescent`, which you've implemented above.\n",
    "\n",
    "This section is given to you.  Please read it for understanding and run the cell."
   ]
  },
  {
   "cell_type": "code",
   "execution_count": 32,
   "metadata": {},
   "outputs": [
    {
     "name": "stdout",
     "output_type": "stream",
     "text": [
      "The cost after training is 0.22522315.\n",
      "The resulting vector of weights is [6e-08, 0.00053818, -0.0005583]\n"
     ]
    }
   ],
   "source": [
    "# collect the features 'x' and stack them into a matrix 'X'\n",
    "X = np.zeros((len(train_x), 3))\n",
    "for i in range(len(train_x)):\n",
    "    X[i, :]= extract_features(train_x[i], freqs)\n",
    "\n",
    "# training labels corresponding to X\n",
    "Y = train_y\n",
    "\n",
    "# Apply gradient descent\n",
    "J, theta = gradientDescent(X, Y, np.zeros((3, 1)), 1e-9, 1500)\n",
    "print(f\"The cost after training is {J:.8f}.\")\n",
    "print(f\"The resulting vector of weights is {[round(t, 8) for t in np.squeeze(theta)]}\")"
   ]
  },
  {
   "cell_type": "markdown",
   "metadata": {},
   "source": [
    "<a name='4'></a>\n",
    "## 4 -  Test your Logistic Regression\n",
    "\n",
    "It is time for you to test your logistic regression function on some new input that your model has not seen before. \n",
    "<a name='ex-4'></a>\n",
    "### Predict_tweet\n",
    "Implement `predict_tweet`.\n",
    "Predict whether a tweet is positive or negative.\n",
    "\n",
    "* Given a tweet, process it, then extract the features.\n",
    "* Apply the model's learned weights on the features to get the logits.\n",
    "* Apply the sigmoid to the logits to get the prediction (a value between 0 and 1).\n",
    "\n",
    "$$y_{pred} = sigmoid(\\mathbf{x} \\cdot \\theta)$$"
   ]
  },
  {
   "cell_type": "code",
   "execution_count": 33,
   "metadata": {},
   "outputs": [],
   "source": [
    "# predict_tweet\n",
    "def predict_tweet(tweet, freqs, theta):\n",
    "    '''\n",
    "    Input: \n",
    "        tweet: a string\n",
    "        freqs: a dictionary corresponding to the frequencies of each tuple (word, label)\n",
    "        theta: (3,1) vector of weights\n",
    "    Output: \n",
    "        y_pred: the probability of a tweet being positive or negative\n",
    "    '''\n",
    "    \n",
    "    # extract the features of the tweet and store it into x\n",
    "    x = extract_features(tweet, freqs)\n",
    "    \n",
    "    # make the prediction using x and theta\n",
    "    y_pred = sigmoid(np.dot(x, theta))\n",
    "    \n",
    "    return y_pred"
   ]
  },
  {
   "cell_type": "code",
   "execution_count": 34,
   "metadata": {},
   "outputs": [
    {
     "name": "stdout",
     "output_type": "stream",
     "text": [
      "I am happy -> 0.519275\n",
      "I am bad -> 0.494347\n",
      "this movie should have been great. -> 0.515979\n",
      "great -> 0.516065\n",
      "great great -> 0.532096\n",
      "great great great -> 0.548062\n",
      "great great great great -> 0.563929\n"
     ]
    }
   ],
   "source": [
    "# Run this cell to test your function\n",
    "for tweet in ['I am happy', 'I am bad', 'this movie should have been great.', 'great', 'great great', 'great great great', 'great great great great']:\n",
    "    print( '%s -> %f' % (tweet, predict_tweet(tweet, freqs, theta)))    \n",
    "    "
   ]
  },
  {
   "cell_type": "code",
   "execution_count": 35,
   "metadata": {},
   "outputs": [
    {
     "data": {
      "text/plain": [
       "array([[0.83110307]])"
      ]
     },
     "execution_count": 35,
     "metadata": {},
     "output_type": "execute_result"
    }
   ],
   "source": [
    "my_tweet = 'I am learning :)'\n",
    "predict_tweet(my_tweet, freqs, theta)"
   ]
  },
  {
   "cell_type": "code",
   "execution_count": 36,
   "metadata": {},
   "outputs": [
    {
     "name": "stdout",
     "output_type": "stream",
     "text": [
      "\u001b[92m All tests passed\n"
     ]
    }
   ],
   "source": [
    "# Test your function\n",
    "w1_unittest.test_predict_tweet(predict_tweet, freqs, theta)"
   ]
  },
  {
   "cell_type": "markdown",
   "metadata": {},
   "source": [
    "<a name='4-1'></a>\n",
    "### 4.1 -  Check the Performance using the Test Set\n",
    "After training your model using the training set above, check how your model might perform on real, unseen data, by testing it against the test set.\n",
    "\n",
    "<a name='ex-5'></a>\n",
    "### Test_logistic_regression\n",
    "Implement `test_logistic_regression`. \n",
    "* Given the test data and the weights of your trained model, calculate the accuracy of your logistic regression model. \n",
    "* Use your 'predict_tweet' function to make predictions on each tweet in the test set.\n",
    "* If the prediction is > 0.5, set the model's classification 'y_hat' to 1, otherwise set the model's classification 'y_hat' to 0.\n",
    "* A prediction is accurate when the y_hat equals the test_y.  Sum up all the instances when they are equal and divide by m.\n"
   ]
  },
  {
   "cell_type": "code",
   "execution_count": 43,
   "metadata": {},
   "outputs": [],
   "source": [
    "# test_logistic_regression\n",
    "def test_logistic_regression(test_x, test_y, freqs, theta, predict_tweet=predict_tweet):\n",
    "    \"\"\"\n",
    "    Input: \n",
    "        test_x: a list of tweets\n",
    "        test_y: (m, 1) vector with the corresponding labels for the list of tweets\n",
    "        freqs: a dictionary with the frequency of each pair (or tuple)\n",
    "        theta: weight vector of dimension (3, 1)\n",
    "    Output: \n",
    "        accuracy: (# of tweets classified correctly) / (total # of tweets)\n",
    "    \"\"\"\n",
    "    \n",
    "    # the list for storing predictions\n",
    "    y_hat = []\n",
    "    \n",
    "    for tweet in test_x:\n",
    "        # get the label prediction for the tweet\n",
    "        y_pred = predict_tweet(tweet, freqs, theta)\n",
    "        \n",
    "        if y_pred > 0.5:\n",
    "            # append 1.0 to the list\n",
    "            y_hat.append(1.0)\n",
    "        else:\n",
    "            # append 0 to the list\n",
    "            y_hat.append(0.0)\n",
    "\n",
    "    # With the above implementation, y_hat is a list, but test_y is (m,1) array\n",
    "    # convert both to one-dimensional arrays in order to compare them using the '==' operator\n",
    "    accuracy = np.mean(np.array(y_hat) == np.squeeze(test_y))\n",
    "    \n",
    "    return accuracy"
   ]
  },
  {
   "cell_type": "code",
   "execution_count": 45,
   "metadata": {},
   "outputs": [
    {
     "name": "stdout",
     "output_type": "stream",
     "text": [
      "Logistic regression model's accuracy = 0.9950\n"
     ]
    }
   ],
   "source": [
    "tmp_accuracy = test_logistic_regression(test_x, test_y, freqs, theta)\n",
    "print(f\"Logistic regression model's accuracy = {tmp_accuracy:.4f}\")"
   ]
  },
  {
   "cell_type": "code",
   "execution_count": 46,
   "metadata": {},
   "outputs": [
    {
     "name": "stdout",
     "output_type": "stream",
     "text": [
      "\u001b[92m All tests passed\n"
     ]
    }
   ],
   "source": [
    "# Test your function\n",
    "w1_unittest.unittest_test_logistic_regression(test_logistic_regression, freqs, theta)"
   ]
  },
  {
   "cell_type": "markdown",
   "metadata": {},
   "source": [
    "<a name='5'></a>\n",
    "## 5 -  Error Analysis\n",
    "\n",
   ]
  },
  {
   "cell_type": "code",
   "execution_count": 47,
   "metadata": {},
   "outputs": [
    {
     "name": "stdout",
     "output_type": "stream",
     "text": [
      "Label Predicted Tweet\n",
      "THE TWEET IS: @MarkBreech Not sure it would be good thing 4 my bottom daring 2 say 2 Miss B but Im gonna be so stubborn on mouth soaping ! #NotHavingit :p\n",
      "THE PROCESSED TWEET IS: ['sure', 'would', 'good', 'thing', '4', 'bottom', 'dare', '2', 'say', '2', 'miss', 'b', 'im', 'gonna', 'stubborn', 'mouth', 'soap', 'nothavingit', ':p']\n",
      "1\t0.48901497\tb'sure would good thing 4 bottom dare 2 say 2 miss b im gonna stubborn mouth soap nothavingit :p'\n",
      "THE TWEET IS: I'm playing Brain Dots : ) #BrainDots\n",
      "http://t.co/UGQzOx0huu\n",
      "THE PROCESSED TWEET IS: [\"i'm\", 'play', 'brain', 'dot', 'braindot']\n",
      "1\t0.48418949\tb\"i'm play brain dot braindot\"\n",
      "THE TWEET IS: I'm playing Brain Dots : ) #BrainDots http://t.co/aOKldo3GMj http://t.co/xWCM9qyRG5\n",
      "THE PROCESSED TWEET IS: [\"i'm\", 'play', 'brain', 'dot', 'braindot']\n",
      "1\t0.48418949\tb\"i'm play brain dot braindot\"\n",
      "THE TWEET IS: I'm playing Brain Dots : ) #BrainDots http://t.co/R2JBO8iNww http://t.co/ow5BBwdEMY\n",
      "THE PROCESSED TWEET IS: [\"i'm\", 'play', 'brain', 'dot', 'braindot']\n",
      "1\t0.48418949\tb\"i'm play brain dot braindot\"\n",
      "THE TWEET IS: off to the park to get some sunlight : )\n",
      "THE PROCESSED TWEET IS: ['park', 'get', 'sunlight']\n",
      "1\t0.49636374\tb'park get sunlight'\n",
      "THE TWEET IS: @msarosh Uff Itna Miss karhy thy ap :p\n",
      "THE PROCESSED TWEET IS: ['uff', 'itna', 'miss', 'karhi', 'thi', 'ap', ':p']\n",
      "1\t0.48237069\tb'uff itna miss karhi thi ap :p'\n",
      "THE TWEET IS: @phenomyoutube u probs had more fun with david than me : (\n",
      "THE PROCESSED TWEET IS: ['u', 'prob', 'fun', 'david']\n",
      "0\t0.50988239\tb'u prob fun david'\n",
      "THE TWEET IS: pats jay : (\n",
      "THE PROCESSED TWEET IS: ['pat', 'jay']\n",
      "0\t0.50040365\tb'pat jay'\n",
      "THE TWEET IS: my beloved grandmother : ( https://t.co/wt4oXq5xCf\n",
      "THE PROCESSED TWEET IS: ['belov', 'grandmoth']\n",
      "0\t0.50000002\tb'belov grandmoth'\n",
      "THE TWEET IS: Sr. Financial Analyst - Expedia, Inc.: (#Bellevue, WA) http://t.co/ktknMhvwCI #Finance #ExpediaJobs #Job #Jobs #Hiring\n",
      "THE PROCESSED TWEET IS: ['sr', 'financi', 'analyst', 'expedia', 'inc', 'bellevu', 'wa', 'financ', 'expediajob', 'job', 'job', 'hire']\n",
      "0\t0.50648681\tb'sr financi analyst expedia inc bellevu wa financ expediajob job job hire'\n"
     ]
    }
   ],
   "source": [
    "# Some error analysis done for you\n",
    "print('Label Predicted Tweet')\n",
    "for x,y in zip(test_x,test_y):\n",
    "    y_hat = predict_tweet(x, freqs, theta)\n",
    "\n",
    "    if np.abs(y - (y_hat > 0.5)) > 0:\n",
    "        print('THE TWEET IS:', x)\n",
    "        print('THE PROCESSED TWEET IS:', process_tweet(x))\n",
    "        print('%d\\t%0.8f\\t%s' % (y, y_hat, ' '.join(process_tweet(x)).encode('ascii', 'ignore')))"
   ]
  },
  {
   "cell_type": "markdown",
   "metadata": {},
   "source": [
    "Later in this specialization, we will see how we can use deeplearning to improve the prediction performance."
   ]
  },
  {
   "cell_type": "markdown",
   "metadata": {},
   "source": [
    "<a name='6'></a>\n",
    "## 6 - Predict with your own Tweet"
   ]
  },
  {
   "cell_type": "code",
   "execution_count": 53,
   "metadata": {},
   "outputs": [
    {
     "name": "stdout",
     "output_type": "stream",
     "text": [
      "['brilliant', 'movi', 'plot', 'perfect', 'glad', 'finish']\n",
      "[[0.50870821]]\n",
      "Positive sentiment\n"
     ]
    }
   ],
   "source": [
    "my_tweet = 'This is a brilliant movie. The plot was perfect and I was glad when it finished!'\n",
    "print(process_tweet(my_tweet))\n",
    "y_hat = predict_tweet(my_tweet, freqs, theta)\n",
    "print(y_hat)\n",
    "if y_hat > 0.5:\n",
    "    print('Positive sentiment')\n",
    "else: \n",
    "    print('Negative sentiment')"
   ]
  }
 ],
 "metadata": {
  "kernelspec": {
   "display_name": "Python 3 (ipykernel)",
   "language": "python",
   "name": "python3"
  },
  "language_info": {
   "codemirror_mode": {
    "name": "ipython",
    "version": 3
   },
   "file_extension": ".py",
   "mimetype": "text/x-python",
   "name": "python",
   "nbconvert_exporter": "python",
   "pygments_lexer": "ipython3",
   "version": "3.10.9"
  }
 },
 "nbformat": 4,
 "nbformat_minor": 4
}
